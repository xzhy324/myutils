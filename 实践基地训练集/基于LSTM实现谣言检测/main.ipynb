{
 "cells": [
  {
   "cell_type": "markdown",
   "metadata": {
    "collapsed": false
   },
   "source": [
    "# 任务描述：\n",
    "社交媒体的发展在加速信息传播的同时，也带来了虚假谣言信息的泛滥，往往会引发诸多不安定因素，并对经济和社会产生巨大的影响。\n",
    "\n",
    "2016年美国总统大选期间，受访选民平均每人每天接触到4篇虚假新闻，虚假新闻被认为影响了2016年美国大选和英国脱欧的投票结果；近期，在新型冠状病毒感染的肺炎疫情防控的关键期，在全国人民都为疫情揪心时，网上各种有关疫情防控的谣言接连不断，从“广州公交线路因新型冠状病毒肺炎疫情停运”到“北京市为防控疫情采取封城措施”，从“钟南山院士被感染”到“10万人感染肺炎”等等，这些不切实际的谣言，“操纵”了舆论感情，误导了公众的判断，更影响了社会稳定。\n",
    "\n",
    "人们常说“流言止于智者”，要想不被网上的流言和谣言盅惑、伤害，首先需要对其进行科学甄别，而时下人工智能正在尝试担任这一角色。那么，在打假一线AI技术如何做到去伪存真？\n",
    "\n",
    "传统的谣言检测模型一般根据谣言的内容、用户属性、传播方式人工地构造特征，而人工构建特征存在考虑片面、浪费人力等现象。本次实践使用基于循环神经网络（RNN）的谣言检测模型，将文本中的谣言事件向量化，通过循环神经网络的学习训练来挖掘表示文本深层的特征，避免了特征构建的问题，并能发现那些不容易被人发现的特征，从而产生更好的效果。\n",
    "\n",
    "数据集介绍：\n",
    "\n",
    "本次实践所使用的数据是从新浪微博不实信息举报平台抓取的中文谣言数据，数据集中共包含1538条谣言和1849条非谣言。如下图所示，每条数据均为json格式，其中text字段代表微博原文的文字内容。\n",
    "\n",
    "更多数据集介绍请参考https://github.com/thunlp/Chinese_Rumor_Dataset。\n",
    "\n",
    "![](https://ai-studio-static-online.cdn.bcebos.com/30665456670941acaf0ad4bfa78252e8d44f296dda8d48dea2ada26a5f10ef1a)"
   ]
  },
  {
   "cell_type": "markdown",
   "metadata": {
    "collapsed": false
   },
   "source": [
    "# 一、环境设置\n",
    "本示例基于飞桨开源框架2.0版本。"
   ]
  },
  {
   "cell_type": "code",
   "execution_count": 12,
   "metadata": {
    "collapsed": false
   },
   "outputs": [
    {
     "name": "stdout",
     "output_type": "stream",
     "text": [
      "2.0.2\n"
     ]
    }
   ],
   "source": [
    "import paddle\r\n",
    "import numpy as np\r\n",
    "import matplotlib.pyplot as plt\r\n",
    "print(paddle.__version__)"
   ]
  },
  {
   "cell_type": "markdown",
   "metadata": {
    "collapsed": false
   },
   "source": [
    "# 二、数据准备\n",
    "\n",
    "（1）解压数据，读取并解析数据，生成all_data.txt\n",
    "\n",
    "（2）生成数据字典，即dict.txt\n",
    "\n",
    "（3）生成数据列表，并进行训练集与验证集的划分，train_list.txt 、eval_list.txt\n",
    "\n",
    "（4）定义训练数据集提供器"
   ]
  },
  {
   "cell_type": "code",
   "execution_count": 13,
   "metadata": {
    "collapsed": false
   },
   "outputs": [],
   "source": [
    "import os, zipfile\n",
    "src_path=\"data/data20519/Rumor_Dataset.zip\"\n",
    "target_path=\"/home/aistudio/data/Chinese_Rumor_Dataset-master\"\n",
    "if(not os.path.isdir(target_path)):\n",
    "    z = zipfile.ZipFile(src_path, 'r')\n",
    "    z.extractall(path=target_path)\n",
    "    z.close()"
   ]
  },
  {
   "cell_type": "code",
   "execution_count": 14,
   "metadata": {
    "collapsed": false
   },
   "outputs": [
    {
     "name": "stdout",
     "output_type": "stream",
     "text": [
      "谣言数据总量为：1538\n",
      "非谣言数据总量为：1849\n"
     ]
    }
   ],
   "source": [
    "import io\r\n",
    "import random\r\n",
    "import json\r\n",
    "\r\n",
    "\r\n",
    "#谣言数据文件路径\r\n",
    "rumor_class_dirs = os.listdir(target_path+\"/Chinese_Rumor_Dataset-master/CED_Dataset/rumor-repost/\")\r\n",
    "\r\n",
    "#非谣言数据文件路径\r\n",
    "non_rumor_class_dirs = os.listdir(target_path+\"/Chinese_Rumor_Dataset-master/CED_Dataset/non-rumor-repost/\")\r\n",
    "\r\n",
    "original_microblog = target_path+\"/Chinese_Rumor_Dataset-master/CED_Dataset/original-microblog/\"\r\n",
    "\r\n",
    "#谣言标签为0，非谣言标签为1\r\n",
    "rumor_label=\"0\"\r\n",
    "non_rumor_label=\"1\"\r\n",
    "\r\n",
    "#分别统计谣言数据与非谣言数据的总数\r\n",
    "rumor_num = 0\r\n",
    "non_rumor_num = 0\r\n",
    "\r\n",
    "all_rumor_list = []\r\n",
    "all_non_rumor_list = []\r\n",
    "\r\n",
    "#解析谣言数据\r\n",
    "for rumor_class_dir in rumor_class_dirs: \r\n",
    "    if(rumor_class_dir != '.DS_Store'):\r\n",
    "        #遍历谣言数据，并解析\r\n",
    "        with open(original_microblog + rumor_class_dir, 'r') as f:\r\n",
    "\t        rumor_content = f.read()\r\n",
    "        rumor_dict = json.loads(rumor_content)\r\n",
    "        all_rumor_list.append(rumor_label+\"\\t\"+rumor_dict[\"text\"]+\"\\n\")\r\n",
    "        rumor_num +=1\r\n",
    "\r\n",
    "#解析非谣言数据\r\n",
    "for non_rumor_class_dir in non_rumor_class_dirs: \r\n",
    "    if(non_rumor_class_dir != '.DS_Store'):\r\n",
    "        with open(original_microblog + non_rumor_class_dir, 'r') as f2:\r\n",
    "\t        non_rumor_content = f2.read()\r\n",
    "        non_rumor_dict = json.loads(non_rumor_content)\r\n",
    "        all_non_rumor_list.append(non_rumor_label+\"\\t\"+non_rumor_dict[\"text\"]+\"\\n\")\r\n",
    "        non_rumor_num +=1\r\n",
    "        \r\n",
    "print(\"谣言数据总量为：\"+str(rumor_num))\r\n",
    "print(\"非谣言数据总量为：\"+str(non_rumor_num))"
   ]
  },
  {
   "cell_type": "code",
   "execution_count": 24,
   "metadata": {
    "collapsed": false
   },
   "outputs": [],
   "source": [
    "#全部数据进行乱序后写入all_data.txt\r\n",
    "\r\n",
    "data_list_path=\"/home/aistudio/data/\"\r\n",
    "all_data_path=data_list_path + \"all_data.txt\"\r\n",
    "\r\n",
    "all_data_list = all_rumor_list + all_non_rumor_list\r\n",
    "\r\n",
    "random.shuffle(all_data_list)\r\n",
    "\r\n",
    "#在生成all_data.txt之前，首先将其清空\r\n",
    "with open(all_data_path, 'w') as f:\r\n",
    "    f.seek(0)\r\n",
    "    f.truncate() \r\n",
    "    \r\n",
    "with open(all_data_path, 'a') as f:\r\n",
    "    for data in all_data_list:\r\n",
    "        f.write(data) "
   ]
  },
  {
   "cell_type": "code",
   "execution_count": 25,
   "metadata": {
    "collapsed": false
   },
   "outputs": [],
   "source": [
    "# 生成数据字典\r\n",
    "def create_dict(data_path, dict_path):\r\n",
    "    with open(dict_path, 'w') as f:\r\n",
    "        f.seek(0)\r\n",
    "        f.truncate() \r\n",
    "\r\n",
    "    dict_set = set()\r\n",
    "    # 读取全部数据\r\n",
    "    with open(data_path, 'r', encoding='utf-8') as f:\r\n",
    "        lines = f.readlines()\r\n",
    "    # 把数据生成一个元组\r\n",
    "    for line in lines:\r\n",
    "        content = line.split('\\t')[-1].replace('\\n', '')\r\n",
    "        for s in content:\r\n",
    "            dict_set.add(s)\r\n",
    "    # 把元组转换成字典，一个字对应一个数字\r\n",
    "    dict_list = []\r\n",
    "    i = 0\r\n",
    "    for s in dict_set:\r\n",
    "        dict_list.append([s, i])\r\n",
    "        i += 1\r\n",
    "    # 添加未知字符\r\n",
    "    dict_txt = dict(dict_list)\r\n",
    "    end_dict = {\"<unk>\": i}\r\n",
    "    dict_txt.update(end_dict)\r\n",
    "    end_dict = {\"<pad>\": i+1}\r\n",
    "    dict_txt.update(end_dict)\r\n",
    "    # 把这些字典保存到本地中\r\n",
    "    with open(dict_path, 'w', encoding='utf-8') as f:\r\n",
    "        f.write(str(dict_txt))\r\n",
    "\r\n",
    "        \r\n",
    "    print(\"数据字典生成完成！\")\r\n"
   ]
  },
  {
   "cell_type": "code",
   "execution_count": 26,
   "metadata": {
    "collapsed": false
   },
   "outputs": [],
   "source": [
    "# 创建序列化表示的数据,并按照一定比例划分训练数据train_list.txt与验证数据eval_list.txt\r\n",
    "def create_data_list(data_list_path):\r\n",
    "    #在生成数据之前，首先将eval_list.txt和train_list.txt清空\r\n",
    "    with open(os.path.join(data_list_path, 'eval_list.txt'), 'w', encoding='utf-8') as f_eval:\r\n",
    "        f_eval.seek(0)\r\n",
    "        f_eval.truncate()\r\n",
    "        \r\n",
    "    with open(os.path.join(data_list_path, 'train_list.txt'), 'w', encoding='utf-8') as f_train:\r\n",
    "        f_train.seek(0)\r\n",
    "        f_train.truncate() \r\n",
    "    \r\n",
    "    with open(os.path.join(data_list_path, 'dict.txt'), 'r', encoding='utf-8') as f_data:\r\n",
    "        dict_txt = eval(f_data.readlines()[0])\r\n",
    "\r\n",
    "    with open(os.path.join(data_list_path, 'all_data.txt'), 'r', encoding='utf-8') as f_data:\r\n",
    "        lines = f_data.readlines()\r\n",
    "    \r\n",
    "    i = 0\r\n",
    "    maxlen = 0\r\n",
    "    with open(os.path.join(data_list_path, 'eval_list.txt'), 'a', encoding='utf-8') as f_eval,open(os.path.join(data_list_path, 'train_list.txt'), 'a', encoding='utf-8') as f_train:\r\n",
    "        for line in lines:\r\n",
    "            words = line.split('\\t')[-1].replace('\\n', '')\r\n",
    "            maxlen = max(maxlen, len(words))\r\n",
    "            label = line.split('\\t')[0]\r\n",
    "            labs = \"\"\r\n",
    "            # 每8个 抽取一个数据用于验证\r\n",
    "            if i % 8 == 0:\r\n",
    "                for s in words:\r\n",
    "                    lab = str(dict_txt[s])\r\n",
    "                    labs = labs + lab + ','\r\n",
    "                labs = labs[:-1]\r\n",
    "                labs = labs + '\\t' + label + '\\n'\r\n",
    "                f_eval.write(labs)\r\n",
    "            else:\r\n",
    "                for s in words:\r\n",
    "                    lab = str(dict_txt[s])\r\n",
    "                    labs = labs + lab + ','\r\n",
    "                labs = labs[:-1]\r\n",
    "                labs = labs + '\\t' + label + '\\n'\r\n",
    "                f_train.write(labs)\r\n",
    "            i += 1\r\n",
    "        \r\n",
    "    print(\"数据列表生成完成！\")\r\n",
    "    print(\"样本最长长度：\" + str(maxlen))"
   ]
  },
  {
   "cell_type": "code",
   "execution_count": 27,
   "metadata": {
    "collapsed": false
   },
   "outputs": [
    {
     "name": "stdout",
     "output_type": "stream",
     "text": [
      "数据字典生成完成！\n",
      "数据列表生成完成！\n",
      "样本最长长度：226\n"
     ]
    }
   ],
   "source": [
    "# 把生成的数据列表都放在自己的总类别文件夹中\r\n",
    "data_root_path = \"/home/aistudio/data/\" \r\n",
    "data_path = os.path.join(data_root_path, 'all_data.txt')\r\n",
    "dict_path = os.path.join(data_root_path, \"dict.txt\")\r\n",
    "\r\n",
    "# 创建数据字典\r\n",
    "create_dict(data_path, dict_path)\r\n",
    "\r\n",
    "# 创建数据列表\r\n",
    "create_data_list(data_root_path)"
   ]
  },
  {
   "cell_type": "code",
   "execution_count": 19,
   "metadata": {
    "collapsed": false
   },
   "outputs": [],
   "source": [
    "def load_vocab(file_path):\r\n",
    "    fr = open(file_path, 'r', encoding='utf8')\r\n",
    "    vocab = eval(fr.read())   #读取的str转换为字典\r\n",
    "    fr.close()\r\n",
    "\r\n",
    "    return vocab"
   ]
  },
  {
   "cell_type": "code",
   "execution_count": 28,
   "metadata": {
    "collapsed": false
   },
   "outputs": [
    {
     "name": "stdout",
     "output_type": "stream",
     "text": [
      "1:\n",
      "sentence list id is: ['177', '1679', '1504', '1705', '621', '3382', '2161', '3470', '3135', '4406', '323', '4381', '2514', '536', '2930', '2275', '3300', '3343', '1349', '1738', '1222', '3325', '1159', '2893', '243', '1084', '1411', '3808', '494', '13', '241', '1575', '1613', '2801', '3199', '3343', '3382', '2161', '241', '3199', '3343', '570', '1613', '2614', '1705', '473', '1905', '3768', '1524', '232', '1575', '2577', '2545', '1575', '2577', '115', '2801', '335', '1673', '3382', '2161', '241', '335', '1673', '1705', '570', '473', '1905', '3768', '1524', '232', '1575', '2577', '2545', '1575', '2577', '2577', '2801', '4265', '3343', '3382', '2161', '241', '4265', '3343', '570', '3998', '473', '1905', '3768', '1524', '232', '1575', '2577', '2545', '690', '3559', '3275', '2801', '3382', '2161', '4231', '1250', '3127', '3478', '1272', '435', '3135', '1672', '2915', '1080', '2889', '1770', '4251', '4256', '1669', '985', '1705', '621', '3382', '2161', '4231', '985', '3343', '1349', '1738', '3709', '1222', '3325', '928', '2233', '1159', '2893', '243', '1409', '3382', '1669', '985', '3300', '1319', '3757', '3757', '1882', '3470', '1143', '1143', '3757', '2614', '2444', '3543', '1143', '1540', '2705', '1899', '4322', '4322', '1698', '2178']\n",
      "sentence list is:  【 港 媒 5 问 全 运 : 宫 女 内 斗 太 监 互 掐   东 道 主 黑 手 没 人 管 】 翻 看 历 史 ， 第 9 届 广 东 全 运 ， 广 东 6 9 . 5 枚 金 牌 排 名 第 1 ； 第 1 0 届 江 苏 全 运 ， 江 苏 5 6 枚 金 牌 排 名 第 1 ； 第 1 1 届 山 东 全 运 ， 山 东 6 3 枚 金 牌 排 名 第 1 ； 四 年 一 届 全 运 会 似 乎 演 起 了 宫 心 计 。 大 公 报 撰 文 ： 5 问 全 运 会 ： 东 道 主 下 黑 手 为 何 没 人 管 ？ 全 文 ：   h t t p : / / t . c n / z 8 x P P q m\n",
      "sentence label id is: 1\n",
      "---------------------------------\n",
      "2:\n",
      "sentence list id is: ['177', '3444', '1476', '3161', '781', '2145', '435', '1409', '3575', '1201', '1485', '2759', '1084', '4407', '4285', '2364', '3998', '3998', '985', '932', '2415', '1879', '2028', '1359', '375', '226', '967', '241', '1894', '261', '2577', '115', '1113', '2423', '3055', '2352', '195', '975', '4000', '3927', '2156', '1616', '2352', '4270', '4311', '4395', '2415', '435', '241', '3275', '3902', '1359', '2014', '651', '3770', '1040', '3302', '2889', '3055', '4311', '3629', '3287', '2415', '2889', '3055', '1238', '3161', '3936', '2497', '2156', '2352', '2415', '748', '2980', '435', '3853', '3770', '3770', '3770', '3770', '3575', '855', '1008', '2759']\n",
      "sentence list is:  【 帝 都 是 怎 么 了 ？ [ 震 惊 ] 】 @ 米 娜 3 3 ： 今 儿 北 京 毒 气 爆 表 ， 晚 上 1 0 点 我 家 水 龙 头 放 出 来 的 水 成 这 样 儿 了 ， 一 盆 毒 死 你 ！ 奉 劝 大 家 这 两 天 儿 大 家 还 是 把 自 来 水 儿 给 戒 了 吧 ！ ！ ！ ！ [ 围 观 ]\n",
      "sentence label id is: 0\n",
      "---------------------------------\n"
     ]
    }
   ],
   "source": [
    "# 打印前2条训练数据\r\n",
    "vocab = load_vocab(os.path.join(data_root_path, 'dict.txt'))\r\n",
    "\r\n",
    "def ids_to_str(ids):\r\n",
    "    words = []\r\n",
    "    for k in ids:\r\n",
    "        w = list(vocab.keys())[list(vocab.values()).index(int(k))]\r\n",
    "        words.append(w if isinstance(w, str) else w.decode('ASCII'))\r\n",
    "    return \" \".join(words)\r\n",
    "\r\n",
    "file_path = os.path.join(data_root_path, 'train_list.txt')\r\n",
    "with io.open(file_path, \"r\", encoding='utf8') as fin:\r\n",
    "        i = 0\r\n",
    "        for line in fin:\r\n",
    "            i += 1\r\n",
    "            cols = line.strip().split(\"\\t\")\r\n",
    "            if len(cols) != 2:\r\n",
    "                sys.stderr.write(\"[NOTICE] Error Format Line!\")\r\n",
    "                continue\r\n",
    "            label = int(cols[1])\r\n",
    "            wids = cols[0].split(\",\")\r\n",
    "            print(str(i)+\":\")\r\n",
    "            print('sentence list id is:', wids)\r\n",
    "            print('sentence list is: ', ids_to_str(wids))\r\n",
    "            print('sentence label id is:', label)\r\n",
    "            print('---------------------------------')\r\n",
    "            \r\n",
    "            if i == 2: break"
   ]
  },
  {
   "cell_type": "code",
   "execution_count": 29,
   "metadata": {
    "collapsed": false
   },
   "outputs": [
    {
     "name": "stdout",
     "output_type": "stream",
     "text": [
      "=============train_dataset =============\n",
      "[ 177 1679 1504 1705  621 3382 2161 3470 3135 4406  323 4381 2514  536\n",
      " 2930 2275 3300 3343 1349 1738 1222 3325 1159 2893  243 1084 1411 3808\n",
      "  494   13  241 1575 1613 2801 3199 3343 3382 2161  241 3199 3343  570\n",
      " 1613 2614 1705  473 1905 3768 1524  232 1575 2577 2545 1575 2577  115\n",
      " 2801  335 1673 3382 2161  241  335 1673 1705  570  473 1905 3768 1524\n",
      "  232 1575 2577 2545 1575 2577 2577 2801 4265 3343 3382 2161  241 4265\n",
      " 3343  570 3998  473 1905 3768 1524  232 1575 2577 2545  690 3559 3275\n",
      " 2801 3382 2161 4231 1250 3127 3478 1272  435 3135 1672 2915 1080 2889\n",
      " 1770 4251 4256 1669  985 1705  621 3382 2161 4231  985 3343 1349 1738\n",
      " 3709 1222 3325  928 2233 1159 2893  243 1409 3382 1669  985 3300 1319\n",
      " 3757 3757 1882 3470 1143 1143 3757 2614 2444 3543]\n",
      "(150,)\n",
      "[1]\n",
      "=============test_dataset =============\n",
      "[ 177   54 3465 3543 2137 4322  669  754   41  290 2016 2517 3629 3270\n",
      " 3300 2129 3055  985  950  940 2908 3234  634  850 2599 2577  115 2369\n",
      " 3858  323 4200 4231 3927 2773 1084 3494  157 3270 2705 4108  411 2072\n",
      "  950  940 1082   54 3465 3543   26 1180  589 1131 3300 2137 4322  430\n",
      "  426 3968 3374 1616 2889 1913 2016  139 3629 3270 1297 2129 3055 2949\n",
      "  422 1297 3275 2366  411 2072  950  940 3968 3374 2908 3234  241 1333\n",
      " 1741 2162 1616  850 2599 2086 2577  115 2369 3858  323 1245 3064  611\n",
      "  360 4236  529 1080  411 2072 1072  967 1624 1297  727 3742 2600  651\n",
      " 2086 2137 4322  950  940 3968 3374  634 1238 2377  488 2713  669  754\n",
      " 2697 4133  475 1297  850 2599 4200 4231 2723 2340 3981 2889 1163 1841\n",
      "  847  727 2614  651 1238 2086  488 2137 4322 3960]\n",
      "(150,)\n",
      "[1]\n"
     ]
    }
   ],
   "source": [
    "\r\n",
    "vocab = load_vocab(os.path.join(data_root_path, 'dict.txt'))\r\n",
    "\r\n",
    "class RumorDataset(paddle.io.Dataset):\r\n",
    "    def __init__(self, data_dir):\r\n",
    "        self.data_dir = data_dir\r\n",
    "        self.all_data = []\r\n",
    "       \r\n",
    "        with io.open(self.data_dir, \"r\", encoding='utf8') as fin:\r\n",
    "            for line in fin:\r\n",
    "                cols = line.strip().split(\"\\t\")\r\n",
    "                if len(cols) != 2:\r\n",
    "                    sys.stderr.write(\"[NOTICE] Error Format Line!\")\r\n",
    "                    continue\r\n",
    "                label = []\r\n",
    "                label.append(int(cols[1]))\r\n",
    "                wids = cols[0].split(\",\")\r\n",
    "                if len(wids)>=150:\r\n",
    "                    wids = np.array(wids[:150]).astype('int64')     \r\n",
    "                else:\r\n",
    "                    wids = np.concatenate([wids, [vocab[\"<pad>\"]]*(150-len(wids))]).astype('int64')\r\n",
    "                label = np.array(label).astype('int64')\r\n",
    "                self.all_data.append((wids, label))\r\n",
    "\r\n",
    "        \r\n",
    "    def __getitem__(self, index):\r\n",
    "        data, label = self.all_data[index]\r\n",
    "        return data, label\r\n",
    "\r\n",
    "    def __len__(self):\r\n",
    "        return len(self.all_data)\r\n",
    "\r\n",
    "\r\n",
    "batch_size = 32\r\n",
    "train_dataset = RumorDataset(os.path.join(data_root_path, 'train_list.txt'))\r\n",
    "test_dataset = RumorDataset(os.path.join(data_root_path, 'eval_list.txt'))\r\n",
    "\r\n",
    "train_loader = paddle.io.DataLoader(train_dataset, places=paddle.CPUPlace(), return_list=True,\r\n",
    "                                    shuffle=True, batch_size=batch_size, drop_last=True)\r\n",
    "test_loader = paddle.io.DataLoader(test_dataset, places=paddle.CPUPlace(), return_list=True,\r\n",
    "                                    shuffle=True, batch_size=batch_size, drop_last=True)\r\n",
    "\r\n",
    "\r\n",
    "\r\n",
    "\r\n",
    "#check\r\n",
    "\r\n",
    "print('=============train_dataset =============') \r\n",
    "for data, label in train_dataset:\r\n",
    "    print(data)\r\n",
    "    print(np.array(data).shape)\r\n",
    "    print(label)\r\n",
    "    break\r\n",
    "\r\n",
    "\r\n",
    "print('=============test_dataset =============') \r\n",
    "for data, label in test_dataset:\r\n",
    "    print(data)\r\n",
    "    print(np.array(data).shape)\r\n",
    "    print(label)\r\n",
    "    break\r\n",
    "\r\n",
    "\r\n"
   ]
  },
  {
   "cell_type": "markdown",
   "metadata": {
    "collapsed": false
   },
   "source": [
    "# 三、模型配置"
   ]
  },
  {
   "cell_type": "code",
   "execution_count": 31,
   "metadata": {
    "collapsed": false
   },
   "outputs": [
    {
     "name": "stdout",
     "output_type": "stream",
     "text": [
      "-----------------------------------------------------------------------------------------------------\n",
      " Layer (type)       Input Shape                       Output Shape                      Param #    \n",
      "=====================================================================================================\n",
      "  Embedding-2       [[32, 150]]                      [32, 150, 128]                     564,608    \n",
      "   Linear-3       [[32, 150, 128]]                   [32, 150, 128]                     16,512     \n",
      "    LSTM-2        [[32, 150, 128]]   [[32, 150, 128], [[1, 32, 128], [1, 32, 128]]]     132,096    \n",
      "   Linear-4        [[32, 19200]]                        [32, 2]                         38,402     \n",
      "=====================================================================================================\n",
      "Total params: 751,618\n",
      "Trainable params: 751,618\n",
      "Non-trainable params: 0\n",
      "-----------------------------------------------------------------------------------------------------\n",
      "Input size (MB): 0.02\n",
      "Forward/backward pass size (MB): 142.06\n",
      "Params size (MB): 2.87\n",
      "Estimated Total Size (MB): 144.95\n",
      "-----------------------------------------------------------------------------------------------------\n",
      "\n"
     ]
    },
    {
     "data": {
      "text/plain": [
       "{'total_params': 751618, 'trainable_params': 751618}"
      ]
     },
     "execution_count": 31,
     "metadata": {},
     "output_type": "execute_result"
    }
   ],
   "source": [
    "import paddle\r\n",
    "from paddle.nn import Conv2D, Linear, Embedding\r\n",
    "from paddle import to_tensor\r\n",
    "import paddle.nn.functional as F\r\n",
    "\r\n",
    "class RNN(paddle.nn.Layer):\r\n",
    "    def __init__(self):\r\n",
    "        super(RNN, self).__init__()\r\n",
    "        self.dict_dim = vocab[\"<pad>\"]\r\n",
    "        self.emb_dim = 128\r\n",
    "        self.hid_dim = 128\r\n",
    "        self.class_dim = 2\r\n",
    "        self.embedding = Embedding(\r\n",
    "            self.dict_dim + 1, self.emb_dim,\r\n",
    "            sparse=False)\r\n",
    "        self._fc1 = Linear(self.emb_dim, self.hid_dim)\r\n",
    "        self.lstm = paddle.nn.LSTM(self.hid_dim, self.hid_dim)\r\n",
    "        self.fc2 = Linear(19200, self.class_dim)\r\n",
    "\r\n",
    "    def forward(self, inputs):\r\n",
    "        # [32, 150]\r\n",
    "        emb = self.embedding(inputs)\r\n",
    "        # [32, 150, 128]\r\n",
    "        fc_1 = self._fc1(emb)\r\n",
    "        # [32, 150, 128]\r\n",
    "        x = self.lstm(fc_1)\r\n",
    "        x = paddle.reshape(x[0], [0, -1])\r\n",
    "        x = self.fc2(x)\r\n",
    "        x = paddle.nn.functional.softmax(x)\r\n",
    "        return x\r\n",
    "\r\n",
    "rnn = RNN()\r\n",
    "paddle.summary(rnn,(32,150),\"int64\")"
   ]
  },
  {
   "cell_type": "markdown",
   "metadata": {
    "collapsed": false
   },
   "source": [
    "# 四、模型训练"
   ]
  },
  {
   "cell_type": "code",
   "execution_count": 32,
   "metadata": {
    "collapsed": false
   },
   "outputs": [],
   "source": [
    "def draw_process(title,color,iters,data,label):\r\n",
    "    plt.title(title, fontsize=24)\r\n",
    "    plt.xlabel(\"iter\", fontsize=20)\r\n",
    "    plt.ylabel(label, fontsize=20)\r\n",
    "    plt.plot(iters, data,color=color,label=label) \r\n",
    "    plt.legend()\r\n",
    "    plt.grid()\r\n",
    "    plt.show()"
   ]
  },
  {
   "cell_type": "code",
   "execution_count": 34,
   "metadata": {
    "collapsed": false
   },
   "outputs": [
    {
     "name": "stdout",
     "output_type": "stream",
     "text": [
      "epoch: 0, batch_id: 0, loss is: [0.68715864]\n",
      "epoch: 0, batch_id: 50, loss is: [0.54819226]\n",
      "[validation] accuracy: 0.8605769276618958, loss: 0.4531055688858032\n",
      "epoch: 1, batch_id: 0, loss is: [0.5612684]\n",
      "epoch: 1, batch_id: 50, loss is: [0.40336296]\n",
      "[validation] accuracy: 0.807692289352417, loss: 0.497310996055603\n",
      "epoch: 2, batch_id: 0, loss is: [0.39833498]\n",
      "epoch: 2, batch_id: 50, loss is: [0.37105706]\n",
      "[validation] accuracy: 0.7788461446762085, loss: 0.520526111125946\n"
     ]
    },
    {
     "data": {
      "image/png": "[encoded data removed]",
      "text/plain": [
       "<Figure size 432x288 with 1 Axes>"
      ]
     },
     "metadata": {},
     "output_type": "display_data"
    },
    {
     "data": {
      "image/png": "[encoded data removed]",
      "text/plain": [
       "<Figure size 432x288 with 1 Axes>"
      ]
     },
     "metadata": {},
     "output_type": "display_data"
    }
   ],
   "source": [
    "def train(model):\n",
    "    model.train()\n",
    "    opt = paddle.optimizer.Adam(learning_rate=0.002, parameters=model.parameters())\n",
    "    \n",
    "    steps = 0\n",
    "    Iters, total_loss, total_acc = [], [], []\n",
    "    \n",
    "    for epoch in range(3):\n",
    "        for batch_id, data in enumerate(train_loader):\n",
    "            steps += 1\n",
    "            sent = data[0]\n",
    "            label = data[1]\n",
    "            \n",
    "            logits = model(sent)\n",
    "            loss = paddle.nn.functional.cross_entropy(logits, label)\n",
    "            acc = paddle.metric.accuracy(logits, label)\n",
    "\n",
    "            if batch_id % 50 == 0:\n",
    "                Iters.append(steps)\n",
    "                total_loss.append(loss.numpy()[0])\n",
    "                total_acc.append(acc.numpy()[0])\n",
    "\n",
    "                print(\"epoch: {}, batch_id: {}, loss is: {}\".format(epoch, batch_id, loss.numpy()))\n",
    "            \n",
    "            loss.backward()\n",
    "            opt.step()\n",
    "            opt.clear_grad()\n",
    "\n",
    "        # evaluate model after one epoch\n",
    "        model.eval()\n",
    "        accuracies = []\n",
    "        losses = []\n",
    "        \n",
    "        for batch_id, data in enumerate(test_loader):\n",
    "            \n",
    "            sent = data[0]\n",
    "            label = data[1]\n",
    "\n",
    "            logits = model(sent)\n",
    "            loss = paddle.nn.functional.cross_entropy(logits, label)\n",
    "            acc = paddle.metric.accuracy(logits, label)\n",
    "            \n",
    "            accuracies.append(acc.numpy())\n",
    "            losses.append(loss.numpy())\n",
    "        \n",
    "        avg_acc, avg_loss = np.mean(accuracies), np.mean(losses)\n",
    "\n",
    "        print(\"[validation] accuracy: {}, loss: {}\".format(avg_acc, avg_loss))\n",
    "        \n",
    "        model.train()\n",
    "\n",
    "    paddle.save(model.state_dict(),\"model_final.pdparams\")\n",
    "    \n",
    "    draw_process(\"trainning loss\",\"red\",Iters,total_loss,\"trainning loss\")\n",
    "    draw_process(\"trainning acc\",\"green\",Iters,total_acc,\"trainning acc\")\n",
    "        \n",
    "model = RNN()\n",
    "train(model)"
   ]
  },
  {
   "cell_type": "markdown",
   "metadata": {
    "collapsed": false
   },
   "source": [
    "# 五、模型评估"
   ]
  },
  {
   "cell_type": "code",
   "execution_count": 39,
   "metadata": {
    "collapsed": false
   },
   "outputs": [
    {
     "name": "stdout",
     "output_type": "stream",
     "text": [
      "[validation] accuracy: 0.7788461446762085, loss: 0.5199828743934631\n",
      "数据: 【 上 海 大 学 一 学 院 男 生 被 室 友 捅 伤 致 死 】 1 2 日 ， 上 海 大 学 巴 士 汽 车 学 院 内 发 生 血 案 ， 警 方 接 报 赶 往 现 场 将 一 持 刀 捅 伤 室 友 的 2 1 岁 男 生 汤 某 控 制 ， 2 0 岁 伤 者 聂 某 送 医 抢 救 无 效 死 亡 。 汤 某 被 刑 拘 。 案 发 寝 室 内 ， 两 男 生 非 同 专 业 ， 或 因 琐 事 争 吵 而 肢 体 冲 突 ， 汤 某 用 一 把 小 刀 捅 伤 聂 某 。 综 合 新 华 、 新 民 网 h t t p : / / t . c n / 8 D D Q t \n",
      "\n",
      "是否谣言: 是\n"
     ]
    }
   ],
   "source": [
    "'''\r\n",
    "模型评估\r\n",
    "'''\r\n",
    "model_state_dict = paddle.load('model_final.pdparams')\r\n",
    "model = RNN()\r\n",
    "model.set_state_dict(model_state_dict) \r\n",
    "model.eval()\r\n",
    "label_map = {0:\"是\", 1:\"否\"}\r\n",
    "samples = []\r\n",
    "predictions = []\r\n",
    "accuracies = []\r\n",
    "losses = []\r\n",
    "\r\n",
    "for batch_id, data in enumerate(test_loader):\r\n",
    "    \r\n",
    "    sent = data[0]\r\n",
    "    label = data[1]\r\n",
    "\r\n",
    "    logits = model(sent)\r\n",
    "\r\n",
    "    for idx,probs in enumerate(logits):\r\n",
    "        # 映射分类label\r\n",
    "        label_idx = np.argmax(probs)\r\n",
    "        labels = label_map[label_idx]\r\n",
    "        predictions.append(labels)\r\n",
    "        samples.append(sent[idx].numpy())\r\n",
    "    \r\n",
    "    loss = paddle.nn.functional.cross_entropy(logits, label)\r\n",
    "    acc = paddle.metric.accuracy(logits, label)\r\n",
    "    \r\n",
    "    accuracies.append(acc.numpy())\r\n",
    "    losses.append(loss.numpy())\r\n",
    "\r\n",
    "avg_acc, avg_loss = np.mean(accuracies), np.mean(losses)\r\n",
    "print(\"[validation] accuracy: {}, loss: {}\".format(avg_acc, avg_loss))\r\n",
    "print('数据: {} \\n\\n是否谣言: {}'.format(ids_to_str(samples[0]), predictions[0]))"
   ]
  }
 ],
 "metadata": {
  "kernelspec": {
   "display_name": "PaddlePaddle 2.0.0b0 (Python 3.5)",
   "language": "python",
   "name": "py35-paddle1.2.0"
  },
  "language_info": {
   "codemirror_mode": {
    "name": "ipython",
    "version": 3
   },
   "file_extension": ".py",
   "mimetype": "text/x-python",
   "name": "python",
   "nbconvert_exporter": "python",
   "pygments_lexer": "ipython3",
   "version": "3.7.4"
  }
 },
 "nbformat": 4,
 "nbformat_minor": 1
}
