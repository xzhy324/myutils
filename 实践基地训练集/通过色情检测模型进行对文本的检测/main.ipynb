{
 "cells": [
  {
   "cell_type": "markdown",
   "metadata": {
    "collapsed": false
   },
   "source": [
    "<br><br>\n",
    "<font size=9>**Paddlehub带你文本审核**</font>\n",
    "<br><br><br>"
   ]
  },
  {
   "cell_type": "markdown",
   "metadata": {
    "collapsed": false
   },
   "source": [
    "## 模型概述\n",
    "色情检测模型可自动判别文本是否涉黄并给出相应的置信度，对文本中的色情描述、低俗交友、污秽文爱进行识别。porn_detection_gru采用GRU网络结构并按字粒度进行切词。该模型最大句子长度为256字，仅支持预测。\n",
    "\n",
    "------------\n",
    "\n",
    "\n",
    "## 模型用途\n",
    "通过色情检测模型进行对文本的检测，为营造绿色网络环境助力！\n",
    "\n",
    "------------\n",
    "\n",
    "\n",
    "## 模型使用场景\n",
    "社区发言、博客检测、网页检测"
   ]
  },
  {
   "cell_type": "markdown",
   "metadata": {
    "collapsed": false
   },
   "source": [
    "## 直接进入**code**环节"
   ]
  },
  {
   "cell_type": "markdown",
   "metadata": {
    "collapsed": false
   },
   "source": [
    "> ## 环境配置\n",
    "> paddlepaddle >= 1.6.2\n",
    "> \n",
    "> paddlehub >= 1.6.0"
   ]
  },
  {
   "cell_type": "code",
   "execution_count": 9,
   "metadata": {
    "collapsed": false
   },
   "outputs": [],
   "source": [
    "# !pip install paddlepaddle==1.6.2 @& paddlehub==1.6.0"
   ]
  },
  {
   "cell_type": "markdown",
   "metadata": {
    "collapsed": false
   },
   "source": [
    "> ### 引用库"
   ]
  },
  {
   "cell_type": "code",
   "execution_count": 10,
   "metadata": {
    "collapsed": false
   },
   "outputs": [],
   "source": [
    "# from __future__ import print_function\r\n",
    "import json\r\n",
    "import six\r\n",
    "# import paddlehub as hub\r\n",
    "import paddlehub as hub"
   ]
  },
  {
   "cell_type": "markdown",
   "metadata": {
    "collapsed": false
   },
   "source": [
    "> ### 参数配置"
   ]
  },
  {
   "cell_type": "code",
   "execution_count": 11,
   "metadata": {
    "collapsed": false
   },
   "outputs": [],
   "source": [
    "test_text = [\"打击色情犯罪，是每一个人的责任\", '引导未成年人远离黄赌毒'] #文本内容\r\n",
    "use_gpu=True #是否调用GPU\r\n",
    "batch_size=2 #批处理大小"
   ]
  },
  {
   "cell_type": "markdown",
   "metadata": {
    "collapsed": false
   },
   "source": [
    "> ### 通过lstm实现"
   ]
  },
  {
   "cell_type": "code",
   "execution_count": 12,
   "metadata": {
    "collapsed": false
   },
   "outputs": [],
   "source": [
    "def porn_detection_lstm(test_text, use_gpu ,batch_size):\r\n",
    "    # Load porn_detection_lstm module\r\n",
    "    porn_detection_lstm = hub.Module(name=\"porn_detection_lstm\")\r\n",
    "    input_dict = {\"text\": test_text}\r\n",
    "    results = porn_detection_lstm.detection(data=input_dict, use_gpu=use_gpu, batch_size=batch_size)\r\n",
    "    return results"
   ]
  },
  {
   "cell_type": "markdown",
   "metadata": {
    "collapsed": false
   },
   "source": [
    "> ### 通过gru实现"
   ]
  },
  {
   "cell_type": "code",
   "execution_count": 13,
   "metadata": {
    "collapsed": false
   },
   "outputs": [],
   "source": [
    "def porn_detection_gru(test_text, use_gpu, batch_size):\r\n",
    "    # Load porn_detection_gru module\r\n",
    "    porn_detection_gru = hub.Module(name=\"porn_detection_gru\")\r\n",
    "    input_dict = {\"text\": test_text}\r\n",
    "    results = porn_detection_gru.detection(data=input_dict, use_gpu=use_gpu, batch_size=batch_size)\r\n",
    "    return results"
   ]
  },
  {
   "cell_type": "markdown",
   "metadata": {
    "collapsed": false
   },
   "source": [
    "> ### 通过cnn实现"
   ]
  },
  {
   "cell_type": "code",
   "execution_count": 14,
   "metadata": {
    "collapsed": false
   },
   "outputs": [],
   "source": [
    "def porn_detection_cnn(test_text, use_gpu, batch_size):\r\n",
    "    # Load porn_detection_cnn module\r\n",
    "    porn_detection_cnn = hub.Module(name=\"porn_detection_cnn\")\r\n",
    "    results = porn_detection_cnn.detection(texts=test_text, use_gpu=use_gpu, batch_size=batch_size)\r\n",
    "    return results"
   ]
  },
  {
   "cell_type": "markdown",
   "metadata": {
    "collapsed": false
   },
   "source": [
    "> ### 调用三种不同网络结构"
   ]
  },
  {
   "cell_type": "code",
   "execution_count": 15,
   "metadata": {
    "collapsed": false
   },
   "outputs": [
    {
     "name": "stderr",
     "output_type": "stream",
     "text": [
      "[2021-06-06 16:15:44,986] [ WARNING] - The _initialize method in HubModule will soon be deprecated, you can use the __init__() to handle the initialization of the object\n",
      "[2021-06-06 16:15:45,172] [ WARNING] - The _initialize method in HubModule will soon be deprecated, you can use the __init__() to handle the initialization of the object\n",
      "[2021-06-06 16:15:45,357] [ WARNING] - The _initialize method in HubModule will soon be deprecated, you can use the __init__() to handle the initialization of the object\n"
     ]
    }
   ],
   "source": [
    "lstm = porn_detection_lstm(test_text, use_gpu, batch_size) #调用lstm\r\n",
    "gru = porn_detection_gru(test_text, use_gpu, batch_size)   #调用gru\r\n",
    "cnn = porn_detection_cnn(test_text, use_gpu, batch_size)   #调用cnn"
   ]
  },
  {
   "cell_type": "markdown",
   "metadata": {
    "collapsed": false
   },
   "source": [
    "> ### 输出结果"
   ]
  },
  {
   "cell_type": "markdown",
   "metadata": {
    "collapsed": false
   },
   "source": [
    "**Tips:label的值越高则涉及色情的可能性越高**"
   ]
  },
  {
   "cell_type": "code",
   "execution_count": 16,
   "metadata": {
    "collapsed": false
   },
   "outputs": [
    {
     "name": "stdout",
     "output_type": "stream",
     "text": [
      "------\n",
      "Porn detection with LSTM\n",
      "text                : 打击色情犯罪，是每一个人的责任\n",
      "porn_detection_label: 1\n",
      "porn_detection_key  : porn\n",
      "porn_probs          : 0.8623\n",
      "not_porn_probs      : 0.1377\n",
      "text                : 引导未成年人远离黄赌毒\n",
      "porn_detection_label: 0\n",
      "porn_detection_key  : not_porn\n",
      "porn_probs          : 0.0003\n",
      "not_porn_probs      : 0.9997\n",
      "------\n",
      "Porn detection with GRU\n",
      "text                : 打击色情犯罪，是每一个人的责任\n",
      "porn_detection_label: 1\n",
      "porn_detection_key  : porn\n",
      "porn_probs          : 0.9106\n",
      "not_porn_probs      : 0.0894\n",
      "text                : 引导未成年人远离黄赌毒\n",
      "porn_detection_label: 0\n",
      "porn_detection_key  : not_porn\n",
      "porn_probs          : 0.0002\n",
      "not_porn_probs      : 0.9998\n",
      "------\n",
      "Porn detection with CNN\n",
      "text                : 打击色情犯罪，是每一个人的责任\n",
      "porn_detection_label: 1\n",
      "porn_detection_key  : porn\n",
      "porn_probs          : 0.7641\n",
      "not_porn_probs      : 0.2359\n",
      "text                : 引导未成年人远离黄赌毒\n",
      "porn_detection_label: 0\n",
      "porn_detection_key  : not_porn\n",
      "porn_probs          : 0.0002\n",
      "not_porn_probs      : 0.9998\n",
      "文本内容: 打击色情犯罪，是每一个人的责任\n",
      "label:3, porn_probs:0.84567, not_porn_probs:0.15433\n",
      "文本内容: 引导未成年人远离黄赌毒\n",
      "label:0, porn_probs:0.00023, not_porn_probs:0.99977\n"
     ]
    }
   ],
   "source": [
    "# print(lstm)\r\n",
    "# print(gru)\r\n",
    "# print(cnn)\r\n",
    "def output_dict(dic,pre='LSTM'):\r\n",
    "    print('------\\nPorn detection with {}'.format(pre))\r\n",
    "    for line in dic:\r\n",
    "        for k,v in line.items():\r\n",
    "            print('{:20s}: {}'.format(k,v))\r\n",
    "\r\n",
    "output_dict(lstm)\r\n",
    "output_dict(gru,'GRU')\r\n",
    "output_dict(cnn,'CNN')\r\n",
    "\r\n",
    "for index, text in enumerate(test_text):\r\n",
    "    lstm[index][\"text\"] = text\r\n",
    "    print(\"文本内容:\",text)\r\n",
    "    label = (lstm[index][\"porn_detection_label\"] + gru[index][\"porn_detection_label\"] + cnn[index][\"porn_detection_label\"])\r\n",
    "    porn_probs = (lstm[index][\"porn_probs\"] + gru[index][\"porn_probs\"] + cnn[index][\"porn_probs\"])/3\r\n",
    "    not_porn_probs = (lstm[index][\"not_porn_probs\"] + gru[index][\"not_porn_probs\"] + cnn[index][\"not_porn_probs\"])/3\r\n",
    "    print('label:%0.0f, porn_probs:%0.5f, not_porn_probs:%0.5f' % (label, porn_probs, not_porn_probs))"
   ]
  }
 ],
 "metadata": {
  "kernelspec": {
   "display_name": "PaddlePaddle 2.0.0b0 (Python 3.5)",
   "language": "python",
   "name": "py35-paddle1.2.0"
  },
  "language_info": {
   "codemirror_mode": {
    "name": "ipython",
    "version": 3
   },
   "file_extension": ".py",
   "mimetype": "text/x-python",
   "name": "python",
   "nbconvert_exporter": "python",
   "pygments_lexer": "ipython3",
   "version": "3.7.4"
  }
 },
 "nbformat": 4,
 "nbformat_minor": 1
}
